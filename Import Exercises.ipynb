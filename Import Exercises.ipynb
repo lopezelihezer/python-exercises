{
 "cells": [
  {
   "cell_type": "code",
   "execution_count": null,
   "id": "248e6baa",
   "metadata": {},
   "outputs": [],
   "source": [
    "# Import Exercises\n",
    "# You will need to use imports to complete each exercise; \n",
    "# in addition, these exercise will strengthen your problem solving and python coding skills.\n",
    "\n",
    "# You will be directed to create specific files in part 1, \n",
    "#for the rest you may do your work in either import_exercises.py or import_exercises.ipynb.\n"
   ]
  },
  {
   "cell_type": "code",
   "execution_count": 1,
   "id": "7b0044ba",
   "metadata": {},
   "outputs": [
    {
     "data": {
      "text/plain": [
       "True"
      ]
     },
     "execution_count": 1,
     "metadata": {},
     "output_type": "execute_result"
    }
   ],
   "source": [
    "# 1. Import and test 3 of the functions from your functions exercise file. \n",
    "# Import each function in a different way:\n",
    "\n",
    "# a. Run an interactive python session and import the module. \n",
    "# Call the is_vowel function using the . syntax.\n",
    "import function_exercises\n",
    "function_exercises.is_vowel('a')\n",
    "\n"
   ]
  },
  {
   "cell_type": "code",
   "execution_count": 2,
   "id": "fa1390a3",
   "metadata": {},
   "outputs": [
    {
     "data": {
      "text/plain": [
       "20.0"
      ]
     },
     "execution_count": 2,
     "metadata": {},
     "output_type": "execute_result"
    }
   ],
   "source": [
    "\n",
    "# b. Create a file named import_exercises.py. \n",
    "# Within this file, use from to import the calculate_tip function directly. \n",
    "# Call this function with values you choose and print the result.\n",
    "function_exercises.calculate_tip(.2, 100)\n"
   ]
  },
  {
   "cell_type": "code",
   "execution_count": 3,
   "id": "9e0d8074",
   "metadata": {},
   "outputs": [],
   "source": [
    "\n",
    "# c. Create a jupyter notebook named import_exercises.ipynb. \n",
    "# Use from to import the get_letter_grade function and give it an alias. \n",
    "# Test this function in your notebook.\n",
    "from function_exercises import get_letter_grade as glg"
   ]
  },
  {
   "cell_type": "code",
   "execution_count": 4,
   "id": "e1aa1165",
   "metadata": {},
   "outputs": [
    {
     "name": "stdout",
     "output_type": "stream",
     "text": [
      "You got a(n) A\n"
     ]
    }
   ],
   "source": [
    "glg(99)"
   ]
  },
  {
   "cell_type": "code",
   "execution_count": 5,
   "id": "9358f024",
   "metadata": {},
   "outputs": [],
   "source": [
    "# Make sure your code that tests the function imports is run from the same directory \n",
    "# that your functions exercise file is in."
   ]
  },
  {
   "cell_type": "code",
   "execution_count": 6,
   "id": "c1e065da",
   "metadata": {},
   "outputs": [],
   "source": [
    "# 2. Read about and use the itertools module from the python standard library \n",
    "# to help you solve the following problems:\n",
    "\n",
    "\n"
   ]
  },
  {
   "cell_type": "code",
   "execution_count": 32,
   "id": "9a2ba7f4",
   "metadata": {},
   "outputs": [
    {
     "name": "stdout",
     "output_type": "stream",
     "text": [
      "[('a', '1'), ('a', '2'), ('a', '3'), ('b', '1'), ('b', '2'), ('b', '3'), ('c', '1'), ('c', '2'), ('c', '3')]\n"
     ]
    }
   ],
   "source": [
    "# How many different ways can you combine the letters from \"abc\" with the numbers 1, 2, and 3?\n",
    "import itertools\n",
    "print(list(itertools.product('abc', '123', repeat=1)))\n"
   ]
  },
  {
   "cell_type": "code",
   "execution_count": 24,
   "id": "95305e0c",
   "metadata": {},
   "outputs": [
    {
     "name": "stdout",
     "output_type": "stream",
     "text": [
      "[('a', 'b'), ('a', 'c'), ('a', 'd'), ('b', 'c'), ('b', 'd'), ('c', 'd')]\n"
     ]
    }
   ],
   "source": [
    "# How many different combinations are there of 2 letters from \"abcd\"?\n",
    "print(list(itertools.combinations('abcd', 2)))\n",
    "# 6\n"
   ]
  },
  {
   "cell_type": "code",
   "execution_count": 30,
   "id": "8880bb7f",
   "metadata": {},
   "outputs": [
    {
     "name": "stdout",
     "output_type": "stream",
     "text": [
      "[('a', 'b'), ('a', 'c'), ('a', 'd'), ('b', 'a'), ('b', 'c'), ('b', 'd'), ('c', 'a'), ('c', 'b'), ('c', 'd'), ('d', 'a'), ('d', 'b'), ('d', 'c')]\n"
     ]
    }
   ],
   "source": [
    "# How many different permutations are there of 2 letters from \"abcd\"?\n",
    "print(list(itertools.permutations('abcd', 2)))\n"
   ]
  },
  {
   "cell_type": "code",
   "execution_count": 34,
   "id": "d7771d3b",
   "metadata": {},
   "outputs": [],
   "source": [
    "# 3. Use the load function from the json module to open this file.\n",
    "import json\n",
    "profiles = json.load(open('profiles.json'))"
   ]
  },
  {
   "cell_type": "code",
   "execution_count": 41,
   "id": "ead0aa9b",
   "metadata": {},
   "outputs": [
    {
     "data": {
      "text/plain": [
       "19"
      ]
     },
     "execution_count": 41,
     "metadata": {},
     "output_type": "execute_result"
    }
   ],
   "source": [
    "# Total number of users\n",
    "type(profiles)\n",
    "count = 0\n",
    "for profile in profiles:\n",
    "    count += 1\n",
    "count\n",
    "    \n"
   ]
  },
  {
   "cell_type": "code",
   "execution_count": 43,
   "id": "53ed851e",
   "metadata": {},
   "outputs": [
    {
     "data": {
      "text/plain": [
       "9"
      ]
     },
     "execution_count": 43,
     "metadata": {},
     "output_type": "execute_result"
    }
   ],
   "source": [
    "# Number of active users\n",
    "active_count = 0\n",
    "for profile in profiles:\n",
    "    if profile['isActive'] == True:\n",
    "        active_count += 1\n",
    "active_count\n",
    "\n"
   ]
  },
  {
   "cell_type": "code",
   "execution_count": 45,
   "id": "45c47e8a",
   "metadata": {},
   "outputs": [
    {
     "data": {
      "text/plain": [
       "10"
      ]
     },
     "execution_count": 45,
     "metadata": {},
     "output_type": "execute_result"
    }
   ],
   "source": [
    "# Number of inactive users\n",
    "inactive_count = count - active_count\n",
    "inactive_count\n"
   ]
  },
  {
   "cell_type": "code",
   "execution_count": 68,
   "id": "7b11356c",
   "metadata": {},
   "outputs": [
    {
     "data": {
      "text/plain": [
       "52667.02"
      ]
     },
     "execution_count": 68,
     "metadata": {},
     "output_type": "execute_result"
    }
   ],
   "source": [
    "# Grand total of balances for all users\n",
    "total_balance = 0\n",
    "for profile in profiles:\n",
    "    balance = profile['balance'] # selects value for key:'balance'\n",
    "    balance = function_exercises.handle_commas(balance) # calls function to remove commas from 'balance' value\n",
    "    balance = balance.replace('$', '') # Replaces '$' with an empty space ''.\n",
    "    balance = float(balance)\n",
    "    total_balance += balance\n",
    "\n",
    "total_balance\n",
    "    \n",
    "\n",
    "\n",
    "# Average balance per user\n",
    "# User with the lowest balance\n",
    "# User with the highest balance\n",
    "# Most common favorite fruit\n",
    "# Least most common favorite fruit\n",
    "# Total number of unread messages for all users"
   ]
  },
  {
   "cell_type": "code",
   "execution_count": 60,
   "id": "b4aa78e6",
   "metadata": {},
   "outputs": [
    {
     "data": {
      "text/plain": [
       "'$2097.02'"
      ]
     },
     "execution_count": 60,
     "metadata": {},
     "output_type": "execute_result"
    }
   ],
   "source": [
    "x = profiles[0]['balance']\n",
    "function_exercises.handle_commas(x)"
   ]
  },
  {
   "cell_type": "code",
   "execution_count": 59,
   "id": "ac954115",
   "metadata": {},
   "outputs": [
    {
     "data": {
      "text/plain": [
       "'$2097.02'"
      ]
     },
     "execution_count": 59,
     "metadata": {},
     "output_type": "execute_result"
    }
   ],
   "source": []
  },
  {
   "cell_type": "code",
   "execution_count": null,
   "id": "8b070602",
   "metadata": {},
   "outputs": [],
   "source": []
  }
 ],
 "metadata": {
  "kernelspec": {
   "display_name": "Python 3",
   "language": "python",
   "name": "python3"
  },
  "language_info": {
   "codemirror_mode": {
    "name": "ipython",
    "version": 3
   },
   "file_extension": ".py",
   "mimetype": "text/x-python",
   "name": "python",
   "nbconvert_exporter": "python",
   "pygments_lexer": "ipython3",
   "version": "3.8.8"
  }
 },
 "nbformat": 4,
 "nbformat_minor": 5
}
