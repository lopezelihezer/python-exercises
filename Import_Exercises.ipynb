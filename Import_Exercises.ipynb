{
 "cells": [
  {
   "cell_type": "code",
   "execution_count": 1,
   "id": "248e6baa",
   "metadata": {},
   "outputs": [],
   "source": [
    "# Import Exercises\n",
    "# You will need to use imports to complete each exercise; \n",
    "# in addition, these exercise will strengthen your problem solving and python coding skills.\n",
    "\n",
    "# You will be directed to create specific files in part 1, \n",
    "#for the rest you may do your work in either import_exercises.py or import_exercises.ipynb.\n"
   ]
  },
  {
   "cell_type": "code",
   "execution_count": 2,
   "id": "7b0044ba",
   "metadata": {},
   "outputs": [
    {
     "data": {
      "text/plain": [
       "True"
      ]
     },
     "execution_count": 2,
     "metadata": {},
     "output_type": "execute_result"
    }
   ],
   "source": [
    "# 1. Import and test 3 of the functions from your functions exercise file. \n",
    "# Import each function in a different way:\n",
    "\n",
    "# a. Run an interactive python session and import the module. \n",
    "# Call the is_vowel function using the . syntax.\n",
    "import function_exercises\n",
    "function_exercises.is_vowel('a')\n",
    "\n"
   ]
  },
  {
   "cell_type": "code",
   "execution_count": 3,
   "id": "fa1390a3",
   "metadata": {},
   "outputs": [
    {
     "data": {
      "text/plain": [
       "20.0"
      ]
     },
     "execution_count": 3,
     "metadata": {},
     "output_type": "execute_result"
    }
   ],
   "source": [
    "\n",
    "# b. Create a file named import_exercises.py. \n",
    "# Within this file, use from to import the calculate_tip function directly. \n",
    "# Call this function with values you choose and print the result.\n",
    "function_exercises.calculate_tip(.2, 100)\n"
   ]
  },
  {
   "cell_type": "code",
   "execution_count": 4,
   "id": "9e0d8074",
   "metadata": {},
   "outputs": [],
   "source": [
    "\n",
    "# c. Create a jupyter notebook named import_exercises.ipynb. \n",
    "# Use from to import the get_letter_grade function and give it an alias. \n",
    "# Test this function in your notebook.\n",
    "from function_exercises import get_letter_grade as glg"
   ]
  },
  {
   "cell_type": "code",
   "execution_count": 5,
   "id": "e1aa1165",
   "metadata": {},
   "outputs": [
    {
     "name": "stdout",
     "output_type": "stream",
     "text": [
      "You got a(n) A\n"
     ]
    }
   ],
   "source": [
    "glg(99)"
   ]
  },
  {
   "cell_type": "code",
   "execution_count": 6,
   "id": "9358f024",
   "metadata": {},
   "outputs": [],
   "source": [
    "# Make sure your code that tests the function imports is run from the same directory \n",
    "# that your functions exercise file is in."
   ]
  },
  {
   "cell_type": "code",
   "execution_count": 7,
   "id": "c1e065da",
   "metadata": {},
   "outputs": [],
   "source": [
    "# 2. Read about and use the itertools module from the python standard library \n",
    "# to help you solve the following problems:\n",
    "\n",
    "\n"
   ]
  },
  {
   "cell_type": "code",
   "execution_count": 8,
   "id": "9a2ba7f4",
   "metadata": {},
   "outputs": [
    {
     "name": "stdout",
     "output_type": "stream",
     "text": [
      "[('a', '1'), ('a', '2'), ('a', '3'), ('b', '1'), ('b', '2'), ('b', '3'), ('c', '1'), ('c', '2'), ('c', '3')]\n"
     ]
    }
   ],
   "source": [
    "# How many different ways can you combine the letters from \"abc\" with the numbers 1, 2, and 3?\n",
    "import itertools\n",
    "print(list(itertools.product('abc', '123', repeat=1)))\n"
   ]
  },
  {
   "cell_type": "code",
   "execution_count": 9,
   "id": "95305e0c",
   "metadata": {},
   "outputs": [
    {
     "name": "stdout",
     "output_type": "stream",
     "text": [
      "[('a', 'b'), ('a', 'c'), ('a', 'd'), ('b', 'c'), ('b', 'd'), ('c', 'd')]\n"
     ]
    }
   ],
   "source": [
    "# How many different combinations are there of 2 letters from \"abcd\"?\n",
    "print(list(itertools.combinations('abcd', 2)))\n",
    "# 6\n"
   ]
  },
  {
   "cell_type": "code",
   "execution_count": 10,
   "id": "8880bb7f",
   "metadata": {},
   "outputs": [
    {
     "name": "stdout",
     "output_type": "stream",
     "text": [
      "[('a', 'b'), ('a', 'c'), ('a', 'd'), ('b', 'a'), ('b', 'c'), ('b', 'd'), ('c', 'a'), ('c', 'b'), ('c', 'd'), ('d', 'a'), ('d', 'b'), ('d', 'c')]\n"
     ]
    }
   ],
   "source": [
    "# How many different permutations are there of 2 letters from \"abcd\"?\n",
    "print(list(itertools.permutations('abcd', 2)))\n"
   ]
  },
  {
   "cell_type": "code",
   "execution_count": 11,
   "id": "d7771d3b",
   "metadata": {},
   "outputs": [],
   "source": [
    "# 3. Use the load function from the json module to open this file.\n",
    "import json\n",
    "profiles = json.load(open('profiles.json'))"
   ]
  },
  {
   "cell_type": "code",
   "execution_count": 12,
   "id": "ead0aa9b",
   "metadata": {},
   "outputs": [
    {
     "data": {
      "text/plain": [
       "19"
      ]
     },
     "execution_count": 12,
     "metadata": {},
     "output_type": "execute_result"
    }
   ],
   "source": [
    "# Total number of users\n",
    "type(profiles)\n",
    "user_count = 0\n",
    "for profile in profiles:\n",
    "    user_count += 1\n",
    "user_count\n",
    "    \n"
   ]
  },
  {
   "cell_type": "code",
   "execution_count": 13,
   "id": "53ed851e",
   "metadata": {},
   "outputs": [
    {
     "data": {
      "text/plain": [
       "9"
      ]
     },
     "execution_count": 13,
     "metadata": {},
     "output_type": "execute_result"
    }
   ],
   "source": [
    "# Number of active users\n",
    "active_count = 0\n",
    "for profile in profiles:\n",
    "    if profile['isActive'] == True:\n",
    "        active_count += 1\n",
    "active_count\n",
    "\n"
   ]
  },
  {
   "cell_type": "code",
   "execution_count": 15,
   "id": "45c47e8a",
   "metadata": {},
   "outputs": [
    {
     "data": {
      "text/plain": [
       "10"
      ]
     },
     "execution_count": 15,
     "metadata": {},
     "output_type": "execute_result"
    }
   ],
   "source": [
    "# Number of inactive users\n",
    "inactive_count = user_count - active_count\n",
    "inactive_count\n"
   ]
  },
  {
   "cell_type": "code",
   "execution_count": 23,
   "id": "7b11356c",
   "metadata": {},
   "outputs": [
    {
     "name": "stdout",
     "output_type": "stream",
     "text": [
      "52667.02\n",
      "[2097.02, 3654.02, 1536.02, 3919.64, 3681.39, 1694.42, 1214.1, 2930.31, 1944.15, 2839.22, 2467.31, 3304.99, 3844.42, 3594.99, 2940.24, 3062.41, 3067.82, 2646.76, 2227.79]\n"
     ]
    }
   ],
   "source": [
    "# Grand total of balances for all users\n",
    "total_balance = 0\n",
    "list_of_balances = []\n",
    "for profile in profiles:\n",
    "    balance = profile['balance'] # selects value for key:'balance'\n",
    "    balance = function_exercises.handle_commas(balance) # calls function to remove commas from 'balance' value\n",
    "    balance = balance.replace('$', '') # Replaces '$' with an empty space ''.\n",
    "    balance = float(balance)\n",
    "    list_of_balances.append(balance)\n",
    "    total_balance += balance\n",
    "\n",
    "print(total_balance)\n",
    "\n",
    "\n",
    "\n"
   ]
  },
  {
   "cell_type": "code",
   "execution_count": 19,
   "id": "b4aa78e6",
   "metadata": {},
   "outputs": [
    {
     "data": {
      "text/plain": [
       "2771.95"
      ]
     },
     "execution_count": 19,
     "metadata": {},
     "output_type": "execute_result"
    }
   ],
   "source": [
    "# Average balance per user\n",
    "avg_balance = total_balance / user_count\n",
    "round(avg_balance, 2)\n"
   ]
  },
  {
   "cell_type": "code",
   "execution_count": 30,
   "id": "ac954115",
   "metadata": {},
   "outputs": [
    {
     "name": "stdout",
     "output_type": "stream",
     "text": [
      "User = Avery Flynn, Index = 6, Balance = 1214.1\n"
     ]
    }
   ],
   "source": [
    "# User with the lowest balance\n",
    "def string_to_int(b):\n",
    "    b = function_exercises.handle_commas(b) # calls function to remove commas from 'balance' value\n",
    "    b = b.replace('$', '') # Replaces '$' with an empty space ''.\n",
    "    b = float(b)\n",
    "    return b\n",
    "    \n",
    "    \n",
    "min_balance = 3000\n",
    "for profile in profiles:\n",
    "    balance = string_to_int(profile['balance'])\n",
    "    if balance < min_balance:\n",
    "        min_balance = balance\n",
    "        name = profile['name']\n",
    "        index = profile['index']\n",
    "print(f\"User = {name}, Index = {index}, Balance = {min_balance}\")\n",
    "\n",
    "        \n"
   ]
  },
  {
   "cell_type": "code",
   "execution_count": 28,
   "id": "8b070602",
   "metadata": {},
   "outputs": [
    {
     "data": {
      "text/plain": [
       "float"
      ]
     },
     "execution_count": 28,
     "metadata": {},
     "output_type": "execute_result"
    }
   ],
   "source": [
    "# testing function\n",
    "\n",
    "def string_to_int(b):\n",
    "    b = function_exercises.handle_commas(b) # calls function to remove commas from 'balance' value\n",
    "    b = b.replace('$', '') # Replaces '$' with an empty space ''.\n",
    "    b = float(b)\n",
    "    return b\n",
    "\n",
    "type(string_to_int('$10,000.01'))\n"
   ]
  },
  {
   "cell_type": "code",
   "execution_count": 31,
   "id": "235da0e7",
   "metadata": {},
   "outputs": [
    {
     "name": "stdout",
     "output_type": "stream",
     "text": [
      "User = Fay Hammond, Index = 3, Balance = 3919.64\n"
     ]
    }
   ],
   "source": [
    "# User with the highest balance\n",
    "max_balance = 0\n",
    "for profile in profiles:\n",
    "    balance = string_to_int(profile['balance'])\n",
    "    if balance > max_balance:\n",
    "        max_balance = balance\n",
    "        name = profile['name']\n",
    "        index = profile['index']\n",
    "print(f\"User = {name}, Index = {index}, Balance = {max_balance}\")\n",
    "\n",
    "# Most common favorite fruit\n",
    "# Least most common favorite fruit\n",
    "# Total number of unread messages for all users"
   ]
  },
  {
   "cell_type": "code",
   "execution_count": 33,
   "id": "9220e17e",
   "metadata": {},
   "outputs": [
    {
     "data": {
      "text/plain": [
       "'strawberry'"
      ]
     },
     "execution_count": 33,
     "metadata": {},
     "output_type": "execute_result"
    }
   ],
   "source": [
    "# Most common favorite fruit\n",
    "list_of_all_fruits = []\n",
    "for profile in profiles:\n",
    "    list_of_all_fruits.append(profile['favoriteFruit'])\n",
    "    \n",
    "list_of_all_fruits\n",
    "\n",
    "def most_frequent(l):\n",
    "    counter = 0\n",
    "    list_item = l[0]\n",
    "      \n",
    "    for i in l:\n",
    "        curr_frequency = l.count(i)\n",
    "        if(curr_frequency> counter):\n",
    "            counter = curr_frequency\n",
    "            list_item = i\n",
    "  \n",
    "    return list_item\n",
    "\n",
    "\n",
    "most_frequent(list_of_all_fruits)\n"
   ]
  },
  {
   "cell_type": "code",
   "execution_count": 36,
   "id": "d209bf39",
   "metadata": {},
   "outputs": [
    {
     "data": {
      "text/plain": [
       "['strawberry',\n",
       " 'apple',\n",
       " 'banana',\n",
       " 'banana',\n",
       " 'apple',\n",
       " 'apple',\n",
       " 'banana',\n",
       " 'strawberry',\n",
       " 'strawberry',\n",
       " 'banana',\n",
       " 'strawberry',\n",
       " 'strawberry',\n",
       " 'apple',\n",
       " 'strawberry',\n",
       " 'strawberry',\n",
       " 'banana',\n",
       " 'strawberry',\n",
       " 'banana',\n",
       " 'strawberry']"
      ]
     },
     "execution_count": 36,
     "metadata": {},
     "output_type": "execute_result"
    }
   ],
   "source": [
    "# Least most common favorite fruit\n",
    "def least_frequent(l):\n",
    "    counter = 10\n",
    "    list_item = l[0]\n",
    "      \n",
    "    for i in l:\n",
    "        curr_frequency = l.count(i)\n",
    "        if(curr_frequency < counter):\n",
    "            counter = curr_frequency\n",
    "            list_item = i\n",
    "  \n",
    "    return list_item, counter\n",
    "least_frequent(list_of_all_fruits)\n",
    "\n"
   ]
  },
  {
   "cell_type": "code",
   "execution_count": 59,
   "id": "e7e6338b",
   "metadata": {},
   "outputs": [
    {
     "data": {
      "text/plain": [
       "210"
      ]
     },
     "execution_count": 59,
     "metadata": {},
     "output_type": "execute_result"
    }
   ],
   "source": [
    "# Total number of unread messages for all users\n",
    "total_messages = 0\n",
    "\n",
    "def string_to_num(string):\n",
    "    numbers_list = [int(word) for word in string.split() if word.isdigit()]\n",
    "    number = numbers_list[0]\n",
    "    return number\n",
    "\n",
    "type(string_to_num(profiles[1]['greeting'])) #testing function\n",
    "\n",
    "for profile in profiles:\n",
    "    total_messages += string_to_num(profile['greeting'])\n",
    "    \n",
    "total_messages\n",
    "\n"
   ]
  },
  {
   "cell_type": "code",
   "execution_count": null,
   "id": "c392bd05",
   "metadata": {},
   "outputs": [],
   "source": []
  }
 ],
 "metadata": {
  "kernelspec": {
   "display_name": "Python 3",
   "language": "python",
   "name": "python3"
  },
  "language_info": {
   "codemirror_mode": {
    "name": "ipython",
    "version": 3
   },
   "file_extension": ".py",
   "mimetype": "text/x-python",
   "name": "python",
   "nbconvert_exporter": "python",
   "pygments_lexer": "ipython3",
   "version": "3.8.8"
  }
 },
 "nbformat": 4,
 "nbformat_minor": 5
}
