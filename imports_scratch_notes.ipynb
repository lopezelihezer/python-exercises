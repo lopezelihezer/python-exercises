{
 "cells": [
  {
   "cell_type": "code",
   "execution_count": 1,
   "id": "c6cb846f",
   "metadata": {},
   "outputs": [],
   "source": [
    "# importing an entire module\n",
    "# math is part of the Python Standard Library\n",
    "import math\n"
   ]
  },
  {
   "cell_type": "code",
   "execution_count": 2,
   "id": "bf99fa6e",
   "metadata": {},
   "outputs": [
    {
     "data": {
      "text/plain": [
       "3"
      ]
     },
     "execution_count": 2,
     "metadata": {},
     "output_type": "execute_result"
    }
   ],
   "source": [
    "# module.function_name() to make a function call\n",
    "math.ceil(2.1)"
   ]
  },
  {
   "cell_type": "code",
   "execution_count": 3,
   "id": "7073888b",
   "metadata": {},
   "outputs": [
    {
     "data": {
      "text/plain": [
       "120"
      ]
     },
     "execution_count": 3,
     "metadata": {},
     "output_type": "execute_result"
    }
   ],
   "source": [
    "math.factorial(5)"
   ]
  },
  {
   "cell_type": "code",
   "execution_count": 4,
   "id": "be648859",
   "metadata": {},
   "outputs": [
    {
     "data": {
      "text/plain": [
       "2"
      ]
     },
     "execution_count": 4,
     "metadata": {},
     "output_type": "execute_result"
    }
   ],
   "source": [
    "# If youre in jupyter notebook or ipython you can do: module_name.<tab> to show all available functions\n",
    "math.floor(2.999)"
   ]
  },
  {
   "cell_type": "code",
   "execution_count": 5,
   "id": "96fd2c72",
   "metadata": {},
   "outputs": [],
   "source": [
    "# Importing a specific function from a module\n",
    "# from module import function\n",
    "from time import sleep"
   ]
  },
  {
   "cell_type": "code",
   "execution_count": 6,
   "id": "e19a77e0",
   "metadata": {},
   "outputs": [
    {
     "name": "stdout",
     "output_type": "stream",
     "text": [
      "Howdy\n"
     ]
    }
   ],
   "source": [
    "sleep(3)\n",
    "print('Howdy')"
   ]
  },
  {
   "cell_type": "code",
   "execution_count": 7,
   "id": "497e465c",
   "metadata": {},
   "outputs": [
    {
     "data": {
      "text/plain": [
       "(0.0, 1.0, 0.0)"
      ]
     },
     "execution_count": 7,
     "metadata": {},
     "output_type": "execute_result"
    }
   ],
   "source": [
    "# Multiple function imports from a module\n",
    "from math import tan, cos, sin\n",
    "\n",
    "tan(0), cos(0), sin(0)"
   ]
  },
  {
   "cell_type": "code",
   "execution_count": 8,
   "id": "1e34ba94",
   "metadata": {},
   "outputs": [],
   "source": [
    "# We'll be doing these imports a TON through the rest of the course\n",
    "import pandas as pd\n",
    "import numpy as np"
   ]
  },
  {
   "cell_type": "code",
   "execution_count": 9,
   "id": "230c00a5",
   "metadata": {},
   "outputs": [
    {
     "name": "stdout",
     "output_type": "stream",
     "text": [
      "We can alias imported functions\n"
     ]
    }
   ],
   "source": [
    "from time import sleep as wait\n",
    "wait(2)\n",
    "print('We can alias imported functions')"
   ]
  },
  {
   "cell_type": "code",
   "execution_count": 10,
   "id": "77053b28",
   "metadata": {},
   "outputs": [],
   "source": [
    "# Usually pandas and numpy need to be installed via pip. However installing anaconda installs these modules. "
   ]
  },
  {
   "cell_type": "code",
   "execution_count": 11,
   "id": "450532a4",
   "metadata": {},
   "outputs": [],
   "source": [
    "# Importing from our own .py script files\n",
    "# import file_name avoiding the .py part\n",
    "import function_exercises\n"
   ]
  },
  {
   "cell_type": "code",
   "execution_count": 12,
   "id": "1e3ab74a",
   "metadata": {},
   "outputs": [
    {
     "data": {
      "text/plain": [
       "80.0"
      ]
     },
     "execution_count": 12,
     "metadata": {},
     "output_type": "execute_result"
    }
   ],
   "source": [
    "# Type out file_name. and then press tab key to bring up options. \n",
    "function_exercises.apply_discount(100, .2)"
   ]
  },
  {
   "cell_type": "code",
   "execution_count": null,
   "id": "0fff38bc",
   "metadata": {},
   "outputs": [],
   "source": []
  }
 ],
 "metadata": {
  "kernelspec": {
   "display_name": "Python 3",
   "language": "python",
   "name": "python3"
  },
  "language_info": {
   "codemirror_mode": {
    "name": "ipython",
    "version": 3
   },
   "file_extension": ".py",
   "mimetype": "text/x-python",
   "name": "python",
   "nbconvert_exporter": "python",
   "pygments_lexer": "ipython3",
   "version": "3.8.8"
  }
 },
 "nbformat": 4,
 "nbformat_minor": 5
}
