{
 "cells": [
  {
   "cell_type": "code",
   "execution_count": 1,
   "id": "84d8d07a",
   "metadata": {},
   "outputs": [
    {
     "data": {
      "text/plain": [
       "6"
      ]
     },
     "execution_count": 1,
     "metadata": {},
     "output_type": "execute_result"
    }
   ],
   "source": [
    "3 + 3"
   ]
  },
  {
   "cell_type": "code",
   "execution_count": 3,
   "id": "3ef976fa",
   "metadata": {},
   "outputs": [],
   "source": [
    "# shift + enter runs a cell"
   ]
  },
  {
   "cell_type": "code",
   "execution_count": 4,
   "id": "dc90870a",
   "metadata": {
    "scrolled": true
   },
   "outputs": [
    {
     "name": "stdout",
     "output_type": "stream",
     "text": [
      "9\n"
     ]
    }
   ],
   "source": [
    "message = 3\n",
    "greeting = 3\n",
    "x = message * greeting\n",
    "print(x)"
   ]
  },
  {
   "cell_type": "code",
   "execution_count": 5,
   "id": "f1d8df48",
   "metadata": {},
   "outputs": [],
   "source": [
    "# pressing 'esc' allows you to move up and down the cells using your directional buttons. "
   ]
  },
  {
   "cell_type": "code",
   "execution_count": 6,
   "id": "63f283e9",
   "metadata": {},
   "outputs": [],
   "source": [
    "# command + s can be used to save and checkpoint"
   ]
  },
  {
   "cell_type": "code",
   "execution_count": 7,
   "id": "6dbb561c",
   "metadata": {},
   "outputs": [
    {
     "data": {
      "text/plain": [
       "2"
      ]
     },
     "execution_count": 7,
     "metadata": {},
     "output_type": "execute_result"
    }
   ],
   "source": [
    "x - 7"
   ]
  },
  {
   "cell_type": "code",
   "execution_count": null,
   "id": "e9bad6b4",
   "metadata": {},
   "outputs": [],
   "source": [
    "# cool cool cool"
   ]
  }
 ],
 "metadata": {
  "kernelspec": {
   "display_name": "Python 3",
   "language": "python",
   "name": "python3"
  },
  "language_info": {
   "codemirror_mode": {
    "name": "ipython",
    "version": 3
   },
   "file_extension": ".py",
   "mimetype": "text/x-python",
   "name": "python",
   "nbconvert_exporter": "python",
   "pygments_lexer": "ipython3",
   "version": "3.8.8"
  }
 },
 "nbformat": 4,
 "nbformat_minor": 5
}
