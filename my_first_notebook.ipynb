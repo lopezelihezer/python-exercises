{
 "cells": [
  {
   "cell_type": "markdown",
   "id": "73b0c577",
   "metadata": {},
   "source": [
    "# My FIRST jupyter notebook"
   ]
  },
  {
   "cell_type": "code",
   "execution_count": 1,
   "id": "84d8d07a",
   "metadata": {},
   "outputs": [
    {
     "data": {
      "text/plain": [
       "6"
      ]
     },
     "execution_count": 1,
     "metadata": {},
     "output_type": "execute_result"
    }
   ],
   "source": [
    "3 + 3"
   ]
  },
  {
   "cell_type": "markdown",
   "id": "d505c740",
   "metadata": {},
   "source": [
    "# shift + enter runs a cell"
   ]
  },
  {
   "cell_type": "code",
   "execution_count": 2,
   "id": "dc90870a",
   "metadata": {
    "scrolled": true
   },
   "outputs": [
    {
     "name": "stdout",
     "output_type": "stream",
     "text": [
      "9\n"
     ]
    }
   ],
   "source": [
    "message = 3\n",
    "greeting = 3\n",
    "x = message * greeting\n",
    "print(x)"
   ]
  },
  {
   "cell_type": "markdown",
   "id": "656ebe4c",
   "metadata": {},
   "source": [
    "# pressing 'esc' allows you to move up and down the cells using your directional buttons. "
   ]
  },
  {
   "cell_type": "markdown",
   "id": "bbf89812",
   "metadata": {},
   "source": [
    "# command + s can be used to save and checkpoint"
   ]
  },
  {
   "cell_type": "code",
   "execution_count": 4,
   "id": "a0851692",
   "metadata": {},
   "outputs": [
    {
     "data": {
      "text/plain": [
       "2"
      ]
     },
     "execution_count": 4,
     "metadata": {},
     "output_type": "execute_result"
    }
   ],
   "source": [
    "x - 7"
   ]
  },
  {
   "cell_type": "markdown",
   "id": "2fd12098",
   "metadata": {},
   "source": [
    "# cool cool cool"
   ]
  }
 ],
 "metadata": {
  "kernelspec": {
   "display_name": "Python 3",
   "language": "python",
   "name": "python3"
  },
  "language_info": {
   "codemirror_mode": {
    "name": "ipython",
    "version": 3
   },
   "file_extension": ".py",
   "mimetype": "text/x-python",
   "name": "python",
   "nbconvert_exporter": "python",
   "pygments_lexer": "ipython3",
   "version": "3.8.8"
  }
 },
 "nbformat": 4,
 "nbformat_minor": 5
}
